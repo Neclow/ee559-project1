{
 "cells": [
  {
   "cell_type": "code",
   "execution_count": 1,
   "metadata": {},
   "outputs": [],
   "source": [
    "import torch\n",
    "from torch import nn\n",
    "import matplotlib.pyplot as plt\n",
    "import time\n",
    "from models import *\n",
    "from train import trial\n",
    "from metrics import compute_accuracy\n",
    "from torchsummary import summary\n",
    "from utils import weight_initialization, load_data"
   ]
  },
  {
   "cell_type": "code",
   "execution_count": 90,
   "metadata": {},
   "outputs": [
    {
     "name": "stdout",
     "output_type": "stream",
     "text": [
      "Parameters: 37600\n",
      "Trial 1/30... Training time: 15.69 s\n",
      "Loss: 3.5971, Train acc: 0.9820, Test acc: 0.8770\n",
      "Trial 2/30... Training time: 14.43 s\n",
      "Loss: 4.7950, Train acc: 0.9710, Test acc: 0.8450\n",
      "Trial 3/30... Training time: 15.44 s\n",
      "Loss: 4.0966, Train acc: 0.9820, Test acc: 0.8710\n",
      "Trial 4/30... Training time: 14.61 s\n",
      "Loss: 4.0038, Train acc: 0.9850, Test acc: 0.8900\n",
      "Trial 5/30... Training time: 15.43 s\n",
      "Loss: 4.3572, Train acc: 0.9680, Test acc: 0.8580\n",
      "Trial 6/30... Training time: 14.63 s\n",
      "Loss: 2.8328, Train acc: 0.9940, Test acc: 0.8440\n",
      "Trial 7/30... Training time: 14.97 s\n",
      "Loss: 3.7718, Train acc: 0.9760, Test acc: 0.8740\n",
      "Trial 8/30... Training time: 15.86 s\n",
      "Loss: 4.0386, Train acc: 0.9870, Test acc: 0.8910\n",
      "Trial 9/30... Training time: 14.75 s\n",
      "Loss: 3.9842, Train acc: 0.9780, Test acc: 0.8890\n",
      "Trial 10/30... Training time: 14.61 s\n",
      "Loss: 4.5668, Train acc: 0.9870, Test acc: 0.8520\n",
      "Trial 11/30... Training time: 14.98 s\n",
      "Loss: 3.7827, Train acc: 0.9840, Test acc: 0.8720\n",
      "Trial 12/30... Training time: 17.60 s\n",
      "Loss: 3.6421, Train acc: 0.9890, Test acc: 0.8660\n",
      "Trial 13/30... Training time: 16.78 s\n",
      "Loss: 4.2584, Train acc: 0.9800, Test acc: 0.8590\n",
      "Trial 14/30... Training time: 14.96 s\n",
      "Loss: 3.4984, Train acc: 0.9790, Test acc: 0.8640\n",
      "Trial 15/30... Training time: 16.98 s\n",
      "Loss: 4.0209, Train acc: 0.9800, Test acc: 0.9090\n",
      "Trial 16/30... Training time: 14.76 s\n",
      "Loss: 3.3068, Train acc: 0.9810, Test acc: 0.8770\n",
      "Trial 17/30... Training time: 15.62 s\n",
      "Loss: 4.7313, Train acc: 0.9730, Test acc: 0.8710\n",
      "Trial 18/30... Training time: 17.49 s\n",
      "Loss: 3.6258, Train acc: 0.9860, Test acc: 0.8680\n",
      "Trial 19/30... Training time: 17.27 s\n",
      "Loss: 4.1175, Train acc: 0.9840, Test acc: 0.8700\n",
      "Trial 20/30... Training time: 15.64 s\n",
      "Loss: 3.2559, Train acc: 0.9940, Test acc: 0.8600\n",
      "Trial 21/30... Training time: 14.98 s\n",
      "Loss: 4.0550, Train acc: 0.9780, Test acc: 0.8940\n",
      "Trial 22/30... Training time: 15.13 s\n",
      "Loss: 4.0570, Train acc: 0.9680, Test acc: 0.8560\n",
      "Trial 23/30... Training time: 16.04 s\n",
      "Loss: 3.3698, Train acc: 0.9910, Test acc: 0.9050\n",
      "Trial 24/30... Training time: 16.35 s\n",
      "Loss: 3.9655, Train acc: 0.9910, Test acc: 0.8750\n",
      "Trial 25/30... Training time: 15.73 s\n",
      "Loss: 5.1982, Train acc: 0.9790, Test acc: 0.8510\n",
      "Trial 26/30... Training time: 14.88 s\n",
      "Loss: 3.6565, Train acc: 0.9720, Test acc: 0.8870\n",
      "Trial 27/30... Training time: 14.61 s\n",
      "Loss: 3.3336, Train acc: 0.9920, Test acc: 0.8740\n",
      "Trial 28/30... Training time: 14.89 s\n",
      "Loss: 3.4853, Train acc: 0.9820, Test acc: 0.8760\n",
      "Trial 29/30... Training time: 15.62 s\n",
      "Loss: 3.5026, Train acc: 0.9870, Test acc: 0.8560\n",
      "Trial 30/30... Training time: 16.45 s\n",
      "Loss: 3.7852, Train acc: 0.9880, Test acc: 0.8600\n"
     ]
    }
   ],
   "source": [
    "_, tr_accuracies, te_accuracies = trial(SiameseCNN(mode='dropout'), alpha=.25, alpha_decay=.9)"
   ]
  },
  {
   "cell_type": "code",
   "execution_count": 91,
   "metadata": {},
   "outputs": [
    {
     "name": "stdout",
     "output_type": "stream",
     "text": [
      "Train accuracy - mean: 0.9823, std: 0.0073, median: 0.9820\n",
      "Test accuracy - mean: 0.8714, std: 0.0165, median: 0.8710\n"
     ]
    }
   ],
   "source": [
    "print('Train accuracy - mean: %.4f, std: %.4f, median: %.4f' %\n",
    "     (tr_accuracies.mean(), tr_accuracies.std(), tr_accuracies.median()))\n",
    "print('Test accuracy - mean: %.4f, std: %.4f, median: %.4f' % \n",
    "     (te_accuracies.mean(), te_accuracies.std(), te_accuracies.median()))"
   ]
  },
  {
   "cell_type": "code",
   "execution_count": 92,
   "metadata": {},
   "outputs": [],
   "source": [
    "import numpy as np\n",
    "np.save('data/SiameseCNN/train_drop_aux25_decay.npy', tr_accuracies)\n",
    "np.save('data/SiameseCNN/test_drop_aux25_decay.npy', te_accuracies)"
   ]
  }
 ],
 "metadata": {
  "kernelspec": {
   "display_name": "Python 3",
   "language": "python",
   "name": "python3"
  },
  "language_info": {
   "codemirror_mode": {
    "name": "ipython",
    "version": 3
   },
   "file_extension": ".py",
   "mimetype": "text/x-python",
   "name": "python",
   "nbconvert_exporter": "python",
   "pygments_lexer": "ipython3",
   "version": "3.7.6"
  }
 },
 "nbformat": 4,
 "nbformat_minor": 4
}
