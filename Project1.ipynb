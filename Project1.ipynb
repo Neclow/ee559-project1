{
 "cells": [
  {
   "cell_type": "code",
   "execution_count": 1,
   "metadata": {},
   "outputs": [],
   "source": [
    "import torch\n",
    "from torch import nn,  optim\n",
    "from utils import load_data\n",
    "import matplotlib.pyplot as plt\n",
    "from fcn import FCN\n",
    "from cnn import CNN\n",
    "from sae import StackedAE\n",
    "from utils import train_visualization, weight_initialization, shuffle\n"
   ]
  },
  {
   "cell_type": "code",
   "execution_count": 2,
   "metadata": {},
   "outputs": [],
   "source": [
    "import time"
   ]
  },
  {
   "cell_type": "code",
   "execution_count": 3,
   "metadata": {},
   "outputs": [],
   "source": [
    "train_input, train_target, train_classes, test_input, test_target, test_classes = load_data()"
   ]
  },
  {
   "cell_type": "code",
   "execution_count": 4,
   "metadata": {},
   "outputs": [],
   "source": [
    "def train(net, train_input, train_target, train_classes, eta=1e-3, n_epochs=25, batch_size=100, verbose=True):\n",
    "    criterion = nn.BCELoss()\n",
    "    optimizer = optim.Adam(net.parameters(), lr=eta, weight_decay=1e-5)\n",
    "    \n",
    "    losses, accuracies = [], []\n",
    "    \n",
    "    for e in range(n_epochs):\n",
    "        sum_loss = 0\n",
    "        net.train()\n",
    "        for b in range(0, train_input.size(0), batch_size):\n",
    "            trainX = train_input.narrow(0, b, batch_size)\n",
    "            trainC = train_target.narrow(0, b, batch_size)\n",
    "            \n",
    "\n",
    "            out1 = net(trainX)\n",
    "            #print(out1.shape,trainC.shape)\n",
    "            loss = criterion(out1,trainC.float())\n",
    "            \n",
    "            sum_loss += loss.item()\n",
    "           \n",
    "            optimizer.zero_grad()\n",
    "            loss.backward()\n",
    "            optimizer.step()\n",
    "        \n",
    "        net.eval()\n",
    "        with torch.no_grad():\n",
    "            acc = compute_accuracy(net, train_input, train_target)\n",
    "        losses.append(sum_loss)\n",
    "        accuracies.append(acc)\n",
    "        if verbose:\n",
    "            print('Epoch %d/%d, Loss: %.3f, Accuracy: %.3f' % (e+1, n_epochs, sum_loss, acc))\n",
    "    \n",
    "    return losses, accuracies\n",
    "\n",
    "def trial(net, train_input, train_classes, train_target, test_input, test_target, n_trials=10):\n",
    "    all_losses = []\n",
    "    all_train_accuracies = []\n",
    "    all_test_accuracies = []\n",
    "    for i in range(n_trials):\n",
    "        print(f'Trial {i+1}/{n_trials}...')\n",
    "        # Shuffle data\n",
    "        train_input, train_target, train_classes = shuffle(train_input, train_target, train_classes)\n",
    "        \n",
    "        # Reset weights\n",
    "        net.train()\n",
    "        net.apply(weight_initialization)\n",
    "        \n",
    "        # Train\n",
    "        train_loss, train_acc = train(net, train_input, train_target, train_classes, verbose=False)\n",
    "        \n",
    "        # Collect data\n",
    "        all_losses.append(train_loss)\n",
    "        all_train_accuracies.append(train_acc)\n",
    "        net.eval()\n",
    "        with torch.no_grad():\n",
    "            test_acc = compute_accuracy(net, test_input, test_target)\n",
    "            all_test_accuracies.append(test_acc)\n",
    "        \n",
    "        print('Loss: %.3f, Train accuracy: %.3f, Test_accuracy: %.3f' % (train_loss[-1], train_acc[-1], test_acc))\n",
    "    \n",
    "    return torch.FloatTensor(all_losses), torch.FloatTensor(all_train_accuracies), torch.FloatTensor(all_test_accuracies)"
   ]
  },
  {
   "cell_type": "code",
   "execution_count": 5,
   "metadata": {},
   "outputs": [],
   "source": [
    "def compute_accuracy(net, train,target):\n",
    "    with torch.no_grad():\n",
    "        out1 = net(train)\n",
    "        #max_ = out1.argmax(1)\n",
    "\n",
    "        for i, x in enumerate(out1):\n",
    "            out1[i] = 1 if x > 0.5 else 0 \n",
    "    return (out1 == target).sum().item()/len(target)\n",
    "\n",
    "\n",
    "\n",
    "\n"
   ]
  },
  {
   "cell_type": "code",
   "execution_count": 6,
   "metadata": {},
   "outputs": [],
   "source": [
    "from conv_net import Net"
   ]
  },
  {
   "cell_type": "code",
   "execution_count": 10,
   "metadata": {},
   "outputs": [
    {
     "name": "stdout",
     "output_type": "stream",
     "text": [
      "found size  64\n",
      "baseline number of channel : 5\n",
      "netwok created\n",
      "Parameters conv : 2375\n",
      "Parameters fc : 64101\n",
      "Parameters : 66476\n",
      "torch.Size([5, 2, 3, 3])\n",
      "torch.Size([5])\n",
      "torch.Size([10, 5, 3, 3])\n",
      "torch.Size([10])\n",
      "torch.Size([20, 10, 3, 3])\n",
      "torch.Size([20])\n",
      "torch.Size([50, 1280])\n",
      "torch.Size([50])\n",
      "torch.Size([1, 50])\n",
      "torch.Size([1])\n"
     ]
    }
   ],
   "source": [
    "net = Net(3)"
   ]
  },
  {
   "cell_type": "code",
   "execution_count": 11,
   "metadata": {},
   "outputs": [
    {
     "name": "stdout",
     "output_type": "stream",
     "text": [
      "Epoch 1/25, Loss: 6.891, Accuracy: 0.552\n",
      "Epoch 2/25, Loss: 6.580, Accuracy: 0.681\n",
      "Epoch 3/25, Loss: 5.966, Accuracy: 0.750\n",
      "Epoch 4/25, Loss: 5.365, Accuracy: 0.754\n",
      "Epoch 5/25, Loss: 5.110, Accuracy: 0.742\n",
      "Epoch 6/25, Loss: 4.974, Accuracy: 0.782\n",
      "Epoch 7/25, Loss: 4.791, Accuracy: 0.788\n",
      "Epoch 8/25, Loss: 4.502, Accuracy: 0.796\n",
      "Epoch 9/25, Loss: 4.380, Accuracy: 0.799\n",
      "Epoch 10/25, Loss: 4.323, Accuracy: 0.805\n",
      "Epoch 11/25, Loss: 4.265, Accuracy: 0.814\n",
      "Epoch 12/25, Loss: 4.170, Accuracy: 0.818\n",
      "Epoch 13/25, Loss: 4.026, Accuracy: 0.821\n",
      "Epoch 14/25, Loss: 3.888, Accuracy: 0.828\n",
      "Epoch 15/25, Loss: 3.770, Accuracy: 0.838\n",
      "Epoch 16/25, Loss: 3.667, Accuracy: 0.845\n",
      "Epoch 17/25, Loss: 3.565, Accuracy: 0.847\n",
      "Epoch 18/25, Loss: 3.453, Accuracy: 0.846\n",
      "Epoch 19/25, Loss: 3.331, Accuracy: 0.856\n",
      "Epoch 20/25, Loss: 3.201, Accuracy: 0.864\n",
      "Epoch 21/25, Loss: 3.063, Accuracy: 0.871\n",
      "Epoch 22/25, Loss: 2.926, Accuracy: 0.884\n",
      "Epoch 23/25, Loss: 2.793, Accuracy: 0.892\n",
      "Epoch 24/25, Loss: 2.663, Accuracy: 0.895\n",
      "Epoch 25/25, Loss: 2.535, Accuracy: 0.903\n",
      "6.218964099884033\n"
     ]
    }
   ],
   "source": [
    "start = time.time()\n",
    "train(net, train_input, train_target, train_classes, batch_size=100)\n",
    "print(time.time()-start)"
   ]
  },
  {
   "cell_type": "code",
   "execution_count": 12,
   "metadata": {},
   "outputs": [
    {
     "name": "stdout",
     "output_type": "stream",
     "text": [
      "Trial 1/10...\n",
      "Loss: 0.586, Train accuracy: 0.997, Test_accuracy: 0.821\n",
      "Trial 2/10...\n",
      "Loss: 0.213, Train accuracy: 1.000, Test_accuracy: 0.826\n",
      "Trial 3/10...\n",
      "Loss: 0.400, Train accuracy: 0.985, Test_accuracy: 0.814\n",
      "Trial 4/10...\n",
      "Loss: 0.137, Train accuracy: 1.000, Test_accuracy: 0.825\n",
      "Trial 5/10...\n",
      "Loss: 0.070, Train accuracy: 1.000, Test_accuracy: 0.827\n",
      "Trial 6/10...\n",
      "Loss: 0.061, Train accuracy: 1.000, Test_accuracy: 0.843\n",
      "Trial 7/10...\n",
      "Loss: 0.057, Train accuracy: 1.000, Test_accuracy: 0.830\n",
      "Trial 8/10...\n",
      "Loss: 0.032, Train accuracy: 1.000, Test_accuracy: 0.836\n",
      "Trial 9/10...\n",
      "Loss: 0.030, Train accuracy: 1.000, Test_accuracy: 0.839\n",
      "Trial 10/10...\n",
      "Loss: 0.032, Train accuracy: 1.000, Test_accuracy: 0.838\n",
      "61.82248592376709\n"
     ]
    }
   ],
   "source": [
    "start = time.time()\n",
    "tr_loss, tr_acc, te_acc = trial(net, train_input, train_classes, train_target, test_input, test_target)\n",
    "\n",
    "\n",
    "print(time.time()-start)"
   ]
  },
  {
   "cell_type": "code",
   "execution_count": null,
   "metadata": {},
   "outputs": [],
   "source": []
  },
  {
   "cell_type": "code",
   "execution_count": null,
   "metadata": {
    "scrolled": true
   },
   "outputs": [],
   "source": [
    "fcn = FCN(3)\n",
    "sae = StackedAE(4)\n",
    "cnn = CNN(3, K=3)"
   ]
  },
  {
   "cell_type": "code",
   "execution_count": null,
   "metadata": {
    "scrolled": true
   },
   "outputs": [],
   "source": [
    "cnn"
   ]
  },
  {
   "cell_type": "code",
   "execution_count": 19,
   "metadata": {},
   "outputs": [],
   "source": [
    "tt1 = train_input[:10,0,:,:]"
   ]
  },
  {
   "cell_type": "code",
   "execution_count": 20,
   "metadata": {},
   "outputs": [
    {
     "data": {
      "text/plain": [
       "torch.Size([10, 10])"
      ]
     },
     "execution_count": 20,
     "metadata": {},
     "output_type": "execute_result"
    }
   ],
   "source": [
    "cnn(tt1, tt1)[0].shape"
   ]
  },
  {
   "cell_type": "code",
   "execution_count": 11,
   "metadata": {},
   "outputs": [
    {
     "name": "stdout",
     "output_type": "stream",
     "text": [
      "[207, 23, 9522, 46, 19044, 46, 41400, 100, 1000, 10]\n"
     ]
    }
   ],
   "source": [
    "print([p.numel() for p in cnn.parameters()])"
   ]
  },
  {
   "cell_type": "code",
   "execution_count": 8,
   "metadata": {},
   "outputs": [],
   "source": [
    "depth_losses = {'mean':[], 'std':[]}"
   ]
  },
  {
   "cell_type": "code",
   "execution_count": 1,
   "metadata": {
    "scrolled": false
   },
   "outputs": [
    {
     "ename": "NameError",
     "evalue": "name 'time' is not defined",
     "output_type": "error",
     "traceback": [
      "\u001b[0;31m---------------------------------------------------------------------------\u001b[0m",
      "\u001b[0;31mNameError\u001b[0m                                 Traceback (most recent call last)",
      "\u001b[0;32m<ipython-input-1-a7f84b32808f>\u001b[0m in \u001b[0;36m<module>\u001b[0;34m\u001b[0m\n\u001b[0;32m----> 1\u001b[0;31m \u001b[0mstart\u001b[0m \u001b[0;34m=\u001b[0m \u001b[0mtime\u001b[0m\u001b[0;34m.\u001b[0m\u001b[0mtime\u001b[0m\u001b[0;34m(\u001b[0m\u001b[0;34m)\u001b[0m\u001b[0;34m\u001b[0m\u001b[0;34m\u001b[0m\u001b[0m\n\u001b[0m\u001b[1;32m      2\u001b[0m \u001b[0mtrain\u001b[0m\u001b[0;34m(\u001b[0m\u001b[0mcnn\u001b[0m\u001b[0;34m,\u001b[0m \u001b[0mtrain_input\u001b[0m\u001b[0;34m,\u001b[0m \u001b[0mtrain_target\u001b[0m\u001b[0;34m,\u001b[0m \u001b[0mtrain_classes\u001b[0m\u001b[0;34m,\u001b[0m \u001b[0mbatch_size\u001b[0m\u001b[0;34m=\u001b[0m\u001b[0;36m100\u001b[0m\u001b[0;34m)\u001b[0m\u001b[0;34m\u001b[0m\u001b[0;34m\u001b[0m\u001b[0m\n\u001b[1;32m      3\u001b[0m \u001b[0mprint\u001b[0m\u001b[0;34m(\u001b[0m\u001b[0mtime\u001b[0m\u001b[0;34m.\u001b[0m\u001b[0mtime\u001b[0m\u001b[0;34m(\u001b[0m\u001b[0;34m)\u001b[0m\u001b[0;34m-\u001b[0m\u001b[0mstart\u001b[0m\u001b[0;34m)\u001b[0m\u001b[0;34m\u001b[0m\u001b[0;34m\u001b[0m\u001b[0m\n",
      "\u001b[0;31mNameError\u001b[0m: name 'time' is not defined"
     ]
    }
   ],
   "source": [
    "start = time.time()\n",
    "train(cnn, train_input, train_target, train_classes, batch_size=100)\n",
    "print(time.time()-start)"
   ]
  },
  {
   "cell_type": "code",
   "execution_count": null,
   "metadata": {},
   "outputs": [],
   "source": [
    "depth_losses = {'mean':[], 'std':[]}\n",
    "depth_tr_acc = {'mean':[], 'std':[]}\n",
    "depth_te_acc = {'mean':[], 'std':[]}\n",
    "\n",
    "for depth in range(2,4,2):\n",
    "    cnn = CNN(depth)\n",
    "    #sae.pretrain(train_input)\n",
    "    tr_loss, tr_acc, te_acc = trial(cnn, train_input, train_classes, train_target, test_input, test_target)\n",
    "    \n",
    "    depth_losses['mean'].append(tr_loss.mean(0))\n",
    "    depth_losses['std'].append(tr_loss.std(0))\n",
    "    depth_tr_acc['mean'].append(tr_acc.mean(0))\n",
    "    depth_tr_acc['std'].append(tr_acc.std(0))\n",
    "    depth_te_acc['mean'].append(te_acc.mean(0))\n",
    "    depth_te_acc['std'].append(te_acc.std(0))"
   ]
  },
  {
   "cell_type": "code",
   "execution_count": null,
   "metadata": {
    "scrolled": false
   },
   "outputs": [],
   "source": [
    "fig = plt.gcf()\n",
    "\n",
    "for i, depth in enumerate(range(2,12,2)):\n",
    "    plt.errorbar(range(25), depth_losses['mean'][i].numpy().T, depth_losses['std'][i].numpy().T, fmt = '.', label=f'depth {depth}')\n",
    "plt.xlabel('Epoch')\n",
    "plt.ylabel('Loss')\n",
    "plt.legend()\n",
    "plt.show()\n",
    "fig.savefig('CNN_loss.png')"
   ]
  },
  {
   "cell_type": "code",
   "execution_count": 10,
   "metadata": {},
   "outputs": [
    {
     "data": {
      "image/png": "[encoded data removed]",
      "text/plain": [
       "<Figure size 504x432 with 1 Axes>"
      ]
     },
     "metadata": {
      "needs_background": "light"
     },
     "output_type": "display_data"
    }
   ],
   "source": [
    "fig = plt.figure(figsize=(7,6))\n",
    "for i, depth in enumerate(range(2,12,2)):\n",
    "    plt.errorbar(range(25), depth_tr_acc['mean'][i].numpy().T, depth_tr_acc['std'][i].numpy().T, fmt = '.', label=f'depth {depth}')\n",
    "plt.xlabel('Epoch')\n",
    "plt.ylabel('Train accuracy')\n",
    "plt.legend(loc='best')\n",
    "plt.ylim((0.4, 1.02))\n",
    "plt.show()\n",
    "fig.savefig('CNN_acc.png')"
   ]
  },
  {
   "cell_type": "code",
   "execution_count": 20,
   "metadata": {},
   "outputs": [
    {
     "data": {
      "image/png": "[encoded data removed]",
      "text/plain": [
       "<Figure size 432x288 with 1 Axes>"
      ]
     },
     "metadata": {
      "needs_background": "light"
     },
     "output_type": "display_data"
    }
   ],
   "source": [
    "fig = plt.gcf()\n",
    "plt.bar(range(2,12,2), depth_te_acc['mean'], color=\"w\", yerr=depth_te_acc['std'], ecolor='k', edgecolor='k', hatch='/')\n",
    "plt.xlabel('Depth')\n",
    "plt.ylabel('Test accuracy')\n",
    "\n",
    "for i, value in enumerate(range(2,12,2)):\n",
    "    plt.text(value, depth_te_acc['mean'][i]+0.01, str(round(depth_te_acc['mean'][i].item(), 3)))\n",
    "\n",
    "plt.xlim((1,11))\n",
    "plt.tight_layout()\n",
    "fig.savefig('CNN_test.png')"
   ]
  },
  {
   "cell_type": "code",
   "execution_count": 12,
   "metadata": {},
   "outputs": [],
   "source": [
    "tr_mean_loss = tr_loss.mean(0)\n",
    "tr_std_loss = tr_loss.std(0)\n",
    "tr_mean_acc = tr_acc.mean(0)\n",
    "tr_std_acc = tr_acc.std(0)\n",
    "te_mean_acc = te_acc.mean(0)\n",
    "te_std_acc = te_acc.std(0)\n",
    "xl = range(25)\n",
    "xa = range(25)"
   ]
  },
  {
   "cell_type": "code",
   "execution_count": 15,
   "metadata": {},
   "outputs": [
    {
     "data": {
      "image/png": "[encoded data removed]",
      "text/plain": [
       "<Figure size 432x288 with 1 Axes>"
      ]
     },
     "metadata": {
      "needs_background": "light"
     },
     "output_type": "display_data"
    }
   ],
   "source": [
    "plt.errorbar(xl, tr_mean_loss, tr_std_loss, fmt='.k')\n",
    "plt.plot(xl, tr_loss.numpy().T, 'k', linestyle=\"-\",color=([0.7, 0.7, 1]),label='loss',linewidth=0.3)\n",
    "plt.xlabel(\"epoch\")\n",
    "plt.ylabel(\"Cross-entropy loss\")\n",
    "plt.title(f'Train loss, trials=10')\n",
    "plt.show()"
   ]
  },
  {
   "cell_type": "code",
   "execution_count": 86,
   "metadata": {},
   "outputs": [
    {
     "data": {
      "text/plain": [
       "tensor([0.7060, 0.7820, 0.8450, 0.8780, 0.9050, 0.9220, 0.9280, 0.9410, 0.9500,\n",
       "        0.9610, 0.9640, 0.9640, 0.9750, 0.9800, 0.9770, 0.9780, 0.9800, 0.9850,\n",
       "        0.9870, 0.9920, 0.9940, 0.9930, 0.9930, 0.9940, 0.9940])"
      ]
     },
     "execution_count": 86,
     "metadata": {},
     "output_type": "execute_result"
    }
   ],
   "source": [
    "tr_acc[-1]"
   ]
  },
  {
   "cell_type": "code",
   "execution_count": 16,
   "metadata": {},
   "outputs": [
    {
     "data": {
      "image/png": "[encoded data removed]",
      "text/plain": [
       "<Figure size 432x288 with 1 Axes>"
      ]
     },
     "metadata": {
      "needs_background": "light"
     },
     "output_type": "display_data"
    }
   ],
   "source": [
    "plt.errorbar(xa, tr_mean_acc, tr_std_acc, fmt='.k', label='train')\n",
    "plt.plot(xa, tr_acc.numpy().T,'k', linestyle=\"-\",color=([0.7, 0.7, 1]),linewidth=0.3)\n",
    "plt.annotate(repr(round(tr_mean_acc[-1].item(), 3)) + '$\\pm$' + repr(round(tr_std_acc[-1].item(),3)), (20, tr_mean_acc[-1]-0.02))\n",
    "plt.errorbar(25, te_mean_acc, te_std_acc, fmt='.r', label='test')\n",
    "plt.annotate(repr(round(te_mean_acc.item(), 3)) + '$\\pm$' + repr(round(te_std_acc.item(),3)), (20, te_mean_acc-0.02))\n",
    "plt.xlabel(\"epoch\")\n",
    "plt.ylabel(\"Train accuracy\")\n",
    "plt.title(f'Train loss, trials=10')\n",
    "plt.legend(loc='lower right')\n",
    "plt.show()"
   ]
  },
  {
   "cell_type": "code",
   "execution_count": 49,
   "metadata": {
    "scrolled": true
   },
   "outputs": [
    {
     "name": "stdout",
     "output_type": "stream",
     "text": [
      "(25,)\n",
      "(25,)\n"
     ]
    },
    {
     "ename": "ValueError",
     "evalue": "The lengths of the data (25) and the error 1 do not match",
     "output_type": "error",
     "traceback": [
      "\u001b[1;31m---------------------------------------------------------------------------\u001b[0m",
      "\u001b[1;31mValueError\u001b[0m                                Traceback (most recent call last)",
      "\u001b[1;32m<ipython-input-49-5754c9271016>\u001b[0m in \u001b[0;36m<module>\u001b[1;34m\u001b[0m\n\u001b[0;32m      2\u001b[0m \u001b[0mprint\u001b[0m\u001b[1;33m(\u001b[0m\u001b[0mtr_std_loss\u001b[0m\u001b[1;33m.\u001b[0m\u001b[0mnumpy\u001b[0m\u001b[1;33m(\u001b[0m\u001b[1;33m)\u001b[0m\u001b[1;33m.\u001b[0m\u001b[0mT\u001b[0m\u001b[1;33m.\u001b[0m\u001b[0mshape\u001b[0m\u001b[1;33m)\u001b[0m\u001b[1;33m\u001b[0m\u001b[1;33m\u001b[0m\u001b[0m\n\u001b[0;32m      3\u001b[0m \u001b[1;33m\u001b[0m\u001b[0m\n\u001b[1;32m----> 4\u001b[1;33m \u001b[0mplt\u001b[0m\u001b[1;33m.\u001b[0m\u001b[0merrorbar\u001b[0m\u001b[1;33m(\u001b[0m\u001b[0mx\u001b[0m\u001b[1;33m,\u001b[0m \u001b[0mtr_mean_loss\u001b[0m\u001b[1;33m,\u001b[0m \u001b[0mtr_std_loss\u001b[0m\u001b[1;33m,\u001b[0m \u001b[1;34m'r'\u001b[0m\u001b[1;33m,\u001b[0m \u001b[0mlinestyle\u001b[0m\u001b[1;33m=\u001b[0m\u001b[1;34m\"-\"\u001b[0m\u001b[1;33m,\u001b[0m\u001b[0mlabel\u001b[0m\u001b[1;33m=\u001b[0m\u001b[1;34m'mean_loss'\u001b[0m\u001b[1;33m,\u001b[0m\u001b[0mlinewidth\u001b[0m\u001b[1;33m=\u001b[0m\u001b[1;36m3\u001b[0m\u001b[1;33m)\u001b[0m\u001b[1;33m\u001b[0m\u001b[1;33m\u001b[0m\u001b[0m\n\u001b[0m\u001b[0;32m      5\u001b[0m \u001b[1;31m#plt.plot(x,tr_loss.numpy().T,'r',linestyle=\"-\",color=([0.8, 0.8, 1]),label='loss',linewidth=0.3)\u001b[0m\u001b[1;33m\u001b[0m\u001b[1;33m\u001b[0m\u001b[1;33m\u001b[0m\u001b[0m\n\u001b[0;32m      6\u001b[0m \u001b[0mplt\u001b[0m\u001b[1;33m.\u001b[0m\u001b[0mxlabel\u001b[0m\u001b[1;33m(\u001b[0m\u001b[1;34m\"epoch\"\u001b[0m\u001b[1;33m)\u001b[0m\u001b[1;33m\u001b[0m\u001b[1;33m\u001b[0m\u001b[0m\n",
      "\u001b[1;32m~\\miniconda3\\lib\\site-packages\\matplotlib\\pyplot.py\u001b[0m in \u001b[0;36merrorbar\u001b[1;34m(x, y, yerr, xerr, fmt, ecolor, elinewidth, capsize, barsabove, lolims, uplims, xlolims, xuplims, errorevery, capthick, data, **kwargs)\u001b[0m\n\u001b[0;32m   2527\u001b[0m         \u001b[0mlolims\u001b[0m\u001b[1;33m=\u001b[0m\u001b[0mlolims\u001b[0m\u001b[1;33m,\u001b[0m \u001b[0muplims\u001b[0m\u001b[1;33m=\u001b[0m\u001b[0muplims\u001b[0m\u001b[1;33m,\u001b[0m \u001b[0mxlolims\u001b[0m\u001b[1;33m=\u001b[0m\u001b[0mxlolims\u001b[0m\u001b[1;33m,\u001b[0m\u001b[1;33m\u001b[0m\u001b[1;33m\u001b[0m\u001b[0m\n\u001b[0;32m   2528\u001b[0m         \u001b[0mxuplims\u001b[0m\u001b[1;33m=\u001b[0m\u001b[0mxuplims\u001b[0m\u001b[1;33m,\u001b[0m \u001b[0merrorevery\u001b[0m\u001b[1;33m=\u001b[0m\u001b[0merrorevery\u001b[0m\u001b[1;33m,\u001b[0m \u001b[0mcapthick\u001b[0m\u001b[1;33m=\u001b[0m\u001b[0mcapthick\u001b[0m\u001b[1;33m,\u001b[0m\u001b[1;33m\u001b[0m\u001b[1;33m\u001b[0m\u001b[0m\n\u001b[1;32m-> 2529\u001b[1;33m         **({\"data\": data} if data is not None else {}), **kwargs)\n\u001b[0m\u001b[0;32m   2530\u001b[0m \u001b[1;33m\u001b[0m\u001b[0m\n\u001b[0;32m   2531\u001b[0m \u001b[1;33m\u001b[0m\u001b[0m\n",
      "\u001b[1;32m~\\miniconda3\\lib\\site-packages\\matplotlib\\__init__.py\u001b[0m in \u001b[0;36minner\u001b[1;34m(ax, data, *args, **kwargs)\u001b[0m\n\u001b[0;32m   1563\u001b[0m     \u001b[1;32mdef\u001b[0m \u001b[0minner\u001b[0m\u001b[1;33m(\u001b[0m\u001b[0max\u001b[0m\u001b[1;33m,\u001b[0m \u001b[1;33m*\u001b[0m\u001b[0margs\u001b[0m\u001b[1;33m,\u001b[0m \u001b[0mdata\u001b[0m\u001b[1;33m=\u001b[0m\u001b[1;32mNone\u001b[0m\u001b[1;33m,\u001b[0m \u001b[1;33m**\u001b[0m\u001b[0mkwargs\u001b[0m\u001b[1;33m)\u001b[0m\u001b[1;33m:\u001b[0m\u001b[1;33m\u001b[0m\u001b[1;33m\u001b[0m\u001b[0m\n\u001b[0;32m   1564\u001b[0m         \u001b[1;32mif\u001b[0m \u001b[0mdata\u001b[0m \u001b[1;32mis\u001b[0m \u001b[1;32mNone\u001b[0m\u001b[1;33m:\u001b[0m\u001b[1;33m\u001b[0m\u001b[1;33m\u001b[0m\u001b[0m\n\u001b[1;32m-> 1565\u001b[1;33m             \u001b[1;32mreturn\u001b[0m \u001b[0mfunc\u001b[0m\u001b[1;33m(\u001b[0m\u001b[0max\u001b[0m\u001b[1;33m,\u001b[0m \u001b[1;33m*\u001b[0m\u001b[0mmap\u001b[0m\u001b[1;33m(\u001b[0m\u001b[0msanitize_sequence\u001b[0m\u001b[1;33m,\u001b[0m \u001b[0margs\u001b[0m\u001b[1;33m)\u001b[0m\u001b[1;33m,\u001b[0m \u001b[1;33m**\u001b[0m\u001b[0mkwargs\u001b[0m\u001b[1;33m)\u001b[0m\u001b[1;33m\u001b[0m\u001b[1;33m\u001b[0m\u001b[0m\n\u001b[0m\u001b[0;32m   1566\u001b[0m \u001b[1;33m\u001b[0m\u001b[0m\n\u001b[0;32m   1567\u001b[0m         \u001b[0mbound\u001b[0m \u001b[1;33m=\u001b[0m \u001b[0mnew_sig\u001b[0m\u001b[1;33m.\u001b[0m\u001b[0mbind\u001b[0m\u001b[1;33m(\u001b[0m\u001b[0max\u001b[0m\u001b[1;33m,\u001b[0m \u001b[1;33m*\u001b[0m\u001b[0margs\u001b[0m\u001b[1;33m,\u001b[0m \u001b[1;33m**\u001b[0m\u001b[0mkwargs\u001b[0m\u001b[1;33m)\u001b[0m\u001b[1;33m\u001b[0m\u001b[1;33m\u001b[0m\u001b[0m\n",
      "\u001b[1;32m~\\miniconda3\\lib\\site-packages\\matplotlib\\axes\\_axes.py\u001b[0m in \u001b[0;36merrorbar\u001b[1;34m(self, x, y, yerr, xerr, fmt, ecolor, elinewidth, capsize, barsabove, lolims, uplims, xlolims, xuplims, errorevery, capthick, **kwargs)\u001b[0m\n\u001b[0;32m   3325\u001b[0m \u001b[1;33m\u001b[0m\u001b[0m\n\u001b[0;32m   3326\u001b[0m         \u001b[1;32mif\u001b[0m \u001b[0mxerr\u001b[0m \u001b[1;32mis\u001b[0m \u001b[1;32mnot\u001b[0m \u001b[1;32mNone\u001b[0m\u001b[1;33m:\u001b[0m\u001b[1;33m\u001b[0m\u001b[1;33m\u001b[0m\u001b[0m\n\u001b[1;32m-> 3327\u001b[1;33m             \u001b[0mleft\u001b[0m\u001b[1;33m,\u001b[0m \u001b[0mright\u001b[0m \u001b[1;33m=\u001b[0m \u001b[0mextract_err\u001b[0m\u001b[1;33m(\u001b[0m\u001b[0mxerr\u001b[0m\u001b[1;33m,\u001b[0m \u001b[0mx\u001b[0m\u001b[1;33m)\u001b[0m\u001b[1;33m\u001b[0m\u001b[1;33m\u001b[0m\u001b[0m\n\u001b[0m\u001b[0;32m   3328\u001b[0m             \u001b[1;31m# select points without upper/lower limits in x and\u001b[0m\u001b[1;33m\u001b[0m\u001b[1;33m\u001b[0m\u001b[1;33m\u001b[0m\u001b[0m\n\u001b[0;32m   3329\u001b[0m             \u001b[1;31m# draw normal errorbars for these points\u001b[0m\u001b[1;33m\u001b[0m\u001b[1;33m\u001b[0m\u001b[1;33m\u001b[0m\u001b[0m\n",
      "\u001b[1;32m~\\miniconda3\\lib\\site-packages\\matplotlib\\axes\\_axes.py\u001b[0m in \u001b[0;36mextract_err\u001b[1;34m(err, data)\u001b[0m\n\u001b[0;32m   3318\u001b[0m                 \u001b[1;32mif\u001b[0m \u001b[0mlen\u001b[0m\u001b[1;33m(\u001b[0m\u001b[0mdata\u001b[0m\u001b[1;33m)\u001b[0m \u001b[1;33m!=\u001b[0m \u001b[0mlen\u001b[0m\u001b[1;33m(\u001b[0m\u001b[0me\u001b[0m\u001b[1;33m)\u001b[0m\u001b[1;33m:\u001b[0m\u001b[1;33m\u001b[0m\u001b[1;33m\u001b[0m\u001b[0m\n\u001b[0;32m   3319\u001b[0m                     raise ValueError(\n\u001b[1;32m-> 3320\u001b[1;33m                         \u001b[1;34mf\"The lengths of the data ({len(data)}) and the \"\u001b[0m\u001b[1;33m\u001b[0m\u001b[1;33m\u001b[0m\u001b[0m\n\u001b[0m\u001b[0;32m   3321\u001b[0m                         f\"error {len(e)} do not match\")\n\u001b[0;32m   3322\u001b[0m             \u001b[0mlow\u001b[0m \u001b[1;33m=\u001b[0m \u001b[1;33m[\u001b[0m\u001b[0mv\u001b[0m \u001b[1;33m-\u001b[0m \u001b[0me\u001b[0m \u001b[1;32mfor\u001b[0m \u001b[0mv\u001b[0m\u001b[1;33m,\u001b[0m \u001b[0me\u001b[0m \u001b[1;32min\u001b[0m \u001b[0mzip\u001b[0m\u001b[1;33m(\u001b[0m\u001b[0mdata\u001b[0m\u001b[1;33m,\u001b[0m \u001b[0ma\u001b[0m\u001b[1;33m)\u001b[0m\u001b[1;33m]\u001b[0m\u001b[1;33m\u001b[0m\u001b[1;33m\u001b[0m\u001b[0m\n",
      "\u001b[1;31mValueError\u001b[0m: The lengths of the data (25) and the error 1 do not match"
     ]
    },
    {
     "data": {
      "image/png": "[encoded data removed]",
      "text/plain": [
       "<Figure size 432x288 with 1 Axes>"
      ]
     },
     "metadata": {
      "needs_background": "light"
     },
     "output_type": "display_data"
    }
   ],
   "source": [
    "plt.errorbar(x, tr_mean_loss, tr_std_loss, 'r', linestyle=\"-\",label='mean_loss',linewidth=3)\n",
    "#plt.plot(x,tr_loss.numpy().T,'r',linestyle=\"-\",color=([0.8, 0.8, 1]),label='loss',linewidth=0.3)\n"
   ]
  },
  {
   "cell_type": "code",
   "execution_count": null,
   "metadata": {},
   "outputs": [],
   "source": []
  },
  {
   "cell_type": "code",
   "execution_count": 8,
   "metadata": {},
   "outputs": [],
   "source": [
    "a = [[1, 2, 3], [4, 5, 6]]"
   ]
  },
  {
   "cell_type": "code",
   "execution_count": 9,
   "metadata": {},
   "outputs": [],
   "source": [
    "aa = torch.Tensor(a)"
   ]
  },
  {
   "cell_type": "code",
   "execution_count": 10,
   "metadata": {},
   "outputs": [
    {
     "data": {
      "text/plain": [
       "tensor([[1., 2., 3.],\n",
       "        [4., 5., 6.]])"
      ]
     },
     "execution_count": 10,
     "metadata": {},
     "output_type": "execute_result"
    }
   ],
   "source": [
    "aa"
   ]
  },
  {
   "cell_type": "code",
   "execution_count": 11,
   "metadata": {},
   "outputs": [
    {
     "data": {
      "text/plain": [
       "torch.Size([2, 3])"
      ]
     },
     "execution_count": 11,
     "metadata": {},
     "output_type": "execute_result"
    }
   ],
   "source": [
    "aa.shape"
   ]
  },
  {
   "cell_type": "code",
   "execution_count": 5,
   "metadata": {},
   "outputs": [],
   "source": [
    "from conv_net import Net"
   ]
  },
  {
   "cell_type": "code",
   "execution_count": 6,
   "metadata": {},
   "outputs": [
    {
     "name": "stdout",
     "output_type": "stream",
     "text": [
      "found size  16\n",
      "inter mult (2, 1)\n",
      "inter mult (2, 3)\n",
      "inter mult (2, 5)\n",
      "inter mult (2, 7)\n",
      "res 4.099482889325136\n",
      "rouned 4\n",
      "baseline number of channel : 4\n",
      "creating layer :  1\n",
      "creating layer :  2\n",
      "exposant :  (2, 1)\n",
      "creating layer :  3\n",
      "exposant :  (2, 2)\n",
      "creating layer :  4\n",
      "exposant :  (2, 3)\n",
      "creating layer :  5\n",
      "exposant :  (2, 4)\n",
      "netwok created\n",
      "Parameters conv : 24640\n",
      "Parameters fc : 41410\n",
      "Parameters : 66050\n",
      "torch.Size([4, 1, 3, 3])\n",
      "torch.Size([4])\n",
      "torch.Size([8, 4, 3, 3])\n",
      "torch.Size([8])\n",
      "torch.Size([16, 8, 3, 3])\n",
      "torch.Size([16])\n",
      "torch.Size([32, 16, 3, 3])\n",
      "torch.Size([32])\n",
      "torch.Size([64, 32, 3, 3])\n",
      "torch.Size([64])\n",
      "torch.Size([40, 1024])\n",
      "torch.Size([40])\n",
      "torch.Size([10, 40])\n",
      "torch.Size([10])\n"
     ]
    },
    {
     "data": {
      "text/plain": [
       "Net(\n",
       "  (conv_layers): Sequential(\n",
       "    (0): Conv2d(1, 4, kernel_size=(3, 3), stride=(1, 1))\n",
       "    (1): MaxPool2d(kernel_size=1, stride=1, padding=0, dilation=1, ceil_mode=False)\n",
       "    (2): ReLU()\n",
       "    (3): Conv2d(4, 8, kernel_size=(3, 3), stride=(1, 1))\n",
       "    (4): MaxPool2d(kernel_size=1, stride=1, padding=0, dilation=1, ceil_mode=False)\n",
       "    (5): ReLU()\n",
       "    (6): Conv2d(8, 16, kernel_size=(3, 3), stride=(1, 1))\n",
       "    (7): MaxPool2d(kernel_size=1, stride=1, padding=0, dilation=1, ceil_mode=False)\n",
       "    (8): ReLU()\n",
       "    (9): Conv2d(16, 32, kernel_size=(3, 3), stride=(1, 1))\n",
       "    (10): MaxPool2d(kernel_size=1, stride=1, padding=0, dilation=1, ceil_mode=False)\n",
       "    (11): ReLU()\n",
       "    (12): Conv2d(32, 64, kernel_size=(3, 3), stride=(1, 1))\n",
       "    (13): MaxPool2d(kernel_size=1, stride=1, padding=0, dilation=1, ceil_mode=False)\n",
       "    (14): ReLU()\n",
       "  )\n",
       "  (fc_layers): Sequential(\n",
       "    (0): Linear(in_features=1024, out_features=40, bias=True)\n",
       "    (1): ReLU()\n",
       "    (2): Linear(in_features=40, out_features=10, bias=True)\n",
       "  )\n",
       ")"
      ]
     },
     "execution_count": 6,
     "metadata": {},
     "output_type": "execute_result"
    }
   ],
   "source": [
    "Net(5)"
   ]
  },
  {
   "cell_type": "code",
   "execution_count": 7,
   "metadata": {},
   "outputs": [
    {
     "name": "stdout",
     "output_type": "stream",
     "text": [
      "found size  4\n",
      "inter mult (2, 1)\n",
      "inter mult (2, 3)\n",
      "inter mult (2, 5)\n",
      "inter mult (2, 7)\n",
      "inter mult (2, 9)\n",
      "res 3.0575480396966905\n",
      "rouned 3\n",
      "baseline number of channel : 3\n",
      "creating layer :  1\n",
      "creating layer :  2\n",
      "exposant :  (2, 1)\n",
      "creating layer :  3\n",
      "exposant :  (2, 2)\n",
      "creating layer :  4\n",
      "exposant :  (2, 3)\n",
      "creating layer :  5\n",
      "exposant :  (2, 4)\n",
      "creating layer :  6\n",
      "exposant :  (2, 5)\n",
      "netwok created\n",
      "Parameters conv : 55458\n",
      "Parameters fc : 11860\n",
      "Parameters : 67318\n",
      "torch.Size([3, 1, 3, 3])\n",
      "torch.Size([3])\n",
      "torch.Size([6, 3, 3, 3])\n",
      "torch.Size([6])\n",
      "torch.Size([12, 6, 3, 3])\n",
      "torch.Size([12])\n",
      "torch.Size([24, 12, 3, 3])\n",
      "torch.Size([24])\n",
      "torch.Size([48, 24, 3, 3])\n",
      "torch.Size([48])\n",
      "torch.Size([96, 48, 3, 3])\n",
      "torch.Size([96])\n",
      "torch.Size([30, 384])\n",
      "torch.Size([30])\n",
      "torch.Size([10, 30])\n",
      "torch.Size([10])\n",
      "Epoch 1/25, Loss: 46.256, Accuracy: 0.551\n",
      "Epoch 2/25, Loss: 45.921, Accuracy: 0.503\n",
      "Epoch 3/25, Loss: 44.377, Accuracy: 0.587\n",
      "Epoch 4/25, Loss: 37.108, Accuracy: 0.710\n",
      "Epoch 5/25, Loss: 25.947, Accuracy: 0.785\n",
      "Epoch 6/25, Loss: 20.735, Accuracy: 0.798\n",
      "Epoch 7/25, Loss: 17.369, Accuracy: 0.821\n",
      "Epoch 8/25, Loss: 15.123, Accuracy: 0.844\n",
      "Epoch 9/25, Loss: 13.653, Accuracy: 0.858\n",
      "Epoch 10/25, Loss: 12.185, Accuracy: 0.872\n",
      "Epoch 11/25, Loss: 11.063, Accuracy: 0.880\n",
      "Epoch 12/25, Loss: 10.188, Accuracy: 0.890\n",
      "Epoch 13/25, Loss: 9.400, Accuracy: 0.901\n",
      "Epoch 14/25, Loss: 8.778, Accuracy: 0.898\n",
      "Epoch 15/25, Loss: 8.311, Accuracy: 0.900\n",
      "Epoch 16/25, Loss: 7.937, Accuracy: 0.913\n",
      "Epoch 17/25, Loss: 7.554, Accuracy: 0.923\n",
      "Epoch 18/25, Loss: 7.197, Accuracy: 0.931\n",
      "Epoch 19/25, Loss: 6.891, Accuracy: 0.935\n",
      "Epoch 20/25, Loss: 6.623, Accuracy: 0.936\n",
      "Epoch 21/25, Loss: 6.434, Accuracy: 0.941\n",
      "Epoch 22/25, Loss: 6.178, Accuracy: 0.948\n",
      "Epoch 23/25, Loss: 5.849, Accuracy: 0.949\n",
      "Epoch 24/25, Loss: 5.446, Accuracy: 0.953\n",
      "Epoch 25/25, Loss: 5.119, Accuracy: 0.953\n",
      "16.62907600402832\n"
     ]
    }
   ],
   "source": [
    "start = time.time()\n",
    "train(Net(6), train_input, train_target, train_classes, batch_size=100)\n",
    "print(time.time()-start)"
   ]
  },
  {
   "cell_type": "code",
   "execution_count": 20,
   "metadata": {},
   "outputs": [
    {
     "name": "stdout",
     "output_type": "stream",
     "text": [
      "found size  4\n",
      "baseline number of channel : 27\n",
      "netwok created\n",
      "Parameters conv : 13689\n",
      "Parameters fc : 58861\n",
      "Parameters : 72550\n",
      "torch.Size([27, 2, 3, 3])\n",
      "torch.Size([27])\n",
      "torch.Size([54, 27, 3, 3])\n",
      "torch.Size([54])\n",
      "torch.Size([270, 216])\n",
      "torch.Size([270])\n",
      "torch.Size([1, 270])\n",
      "torch.Size([1])\n",
      "Trial 1/10...\n",
      "Loss: 0.238, Train accuracy: 1.000, Test_accuracy: 0.837\n",
      "Trial 2/10...\n",
      "Loss: 1.005, Train accuracy: 0.999, Test_accuracy: 0.821\n",
      "Trial 3/10...\n",
      "Loss: 0.083, Train accuracy: 1.000, Test_accuracy: 0.821\n",
      "Trial 4/10...\n",
      "Loss: 0.015, Train accuracy: 1.000, Test_accuracy: 0.831\n",
      "Trial 5/10...\n",
      "Loss: 0.007, Train accuracy: 1.000, Test_accuracy: 0.833\n",
      "Trial 6/10...\n",
      "Loss: 0.008, Train accuracy: 1.000, Test_accuracy: 0.833\n",
      "Trial 7/10...\n",
      "Loss: 0.005, Train accuracy: 1.000, Test_accuracy: 0.832\n",
      "Trial 8/10...\n",
      "Loss: 0.010, Train accuracy: 1.000, Test_accuracy: 0.840\n",
      "Trial 9/10...\n",
      "Loss: 0.006, Train accuracy: 1.000, Test_accuracy: 0.836\n",
      "Trial 10/10...\n",
      "Loss: 0.005, Train accuracy: 1.000, Test_accuracy: 0.835\n",
      "found size  64\n",
      "baseline number of channel : 5\n",
      "netwok created\n",
      "Parameters conv : 2375\n",
      "Parameters fc : 64101\n",
      "Parameters : 66476\n",
      "torch.Size([5, 2, 3, 3])\n",
      "torch.Size([5])\n",
      "torch.Size([10, 5, 3, 3])\n",
      "torch.Size([10])\n",
      "torch.Size([20, 10, 3, 3])\n",
      "torch.Size([20])\n",
      "torch.Size([50, 1280])\n",
      "torch.Size([50])\n",
      "torch.Size([1, 50])\n",
      "torch.Size([1])\n",
      "Trial 1/10...\n",
      "Loss: 0.481, Train accuracy: 0.998, Test_accuracy: 0.811\n",
      "Trial 2/10...\n",
      "Loss: 0.954, Train accuracy: 0.892, Test_accuracy: 0.756\n",
      "Trial 3/10...\n",
      "Loss: 0.198, Train accuracy: 1.000, Test_accuracy: 0.834\n",
      "Trial 4/10...\n",
      "Loss: 0.039, Train accuracy: 1.000, Test_accuracy: 0.831\n",
      "Trial 5/10...\n",
      "Loss: 0.031, Train accuracy: 1.000, Test_accuracy: 0.841\n",
      "Trial 6/10...\n",
      "Loss: 0.028, Train accuracy: 1.000, Test_accuracy: 0.845\n",
      "Trial 7/10...\n",
      "Loss: 0.022, Train accuracy: 1.000, Test_accuracy: 0.830\n",
      "Trial 8/10...\n",
      "Loss: 0.029, Train accuracy: 1.000, Test_accuracy: 0.841\n",
      "Trial 9/10...\n",
      "Loss: 0.020, Train accuracy: 1.000, Test_accuracy: 0.837\n",
      "Trial 10/10...\n",
      "Loss: 0.029, Train accuracy: 1.000, Test_accuracy: 0.836\n",
      "found size  36\n",
      "baseline number of channel : 5\n",
      "netwok created\n",
      "Parameters conv : 9615\n",
      "Parameters fc : 72101\n",
      "Parameters : 81716\n",
      "torch.Size([5, 2, 3, 3])\n",
      "torch.Size([5])\n",
      "torch.Size([10, 5, 3, 3])\n",
      "torch.Size([10])\n",
      "torch.Size([20, 10, 3, 3])\n",
      "torch.Size([20])\n",
      "torch.Size([40, 20, 3, 3])\n",
      "torch.Size([40])\n",
      "torch.Size([50, 1440])\n",
      "torch.Size([50])\n",
      "torch.Size([1, 50])\n",
      "torch.Size([1])\n",
      "Trial 1/10...\n",
      "Loss: 0.919, Train accuracy: 0.991, Test_accuracy: 0.794\n",
      "Trial 2/10...\n",
      "Loss: 0.048, Train accuracy: 1.000, Test_accuracy: 0.804\n",
      "Trial 3/10...\n",
      "Loss: 0.027, Train accuracy: 1.000, Test_accuracy: 0.802\n",
      "Trial 4/10...\n",
      "Loss: 0.018, Train accuracy: 1.000, Test_accuracy: 0.818\n",
      "Trial 5/10...\n",
      "Loss: 0.020, Train accuracy: 1.000, Test_accuracy: 0.820\n",
      "Trial 6/10...\n",
      "Loss: 0.012, Train accuracy: 1.000, Test_accuracy: 0.807\n",
      "Trial 7/10...\n",
      "Loss: 0.019, Train accuracy: 1.000, Test_accuracy: 0.824\n",
      "Trial 8/10...\n",
      "Loss: 0.007, Train accuracy: 1.000, Test_accuracy: 0.825\n",
      "Trial 9/10...\n",
      "Loss: 0.012, Train accuracy: 1.000, Test_accuracy: 0.819\n",
      "Trial 10/10...\n",
      "Loss: 0.013, Train accuracy: 1.000, Test_accuracy: 0.823\n",
      "found size  16\n",
      "baseline number of channel : 4\n",
      "netwok created\n",
      "Parameters conv : 24676\n",
      "Parameters fc : 41041\n",
      "Parameters : 65717\n",
      "torch.Size([4, 2, 3, 3])\n",
      "torch.Size([4])\n",
      "torch.Size([8, 4, 3, 3])\n",
      "torch.Size([8])\n",
      "torch.Size([16, 8, 3, 3])\n",
      "torch.Size([16])\n",
      "torch.Size([32, 16, 3, 3])\n",
      "torch.Size([32])\n",
      "torch.Size([64, 32, 3, 3])\n",
      "torch.Size([64])\n",
      "torch.Size([40, 1024])\n",
      "torch.Size([40])\n",
      "torch.Size([1, 40])\n",
      "torch.Size([1])\n",
      "Trial 1/10...\n",
      "Loss: 1.651, Train accuracy: 0.948, Test_accuracy: 0.783\n",
      "Trial 2/10...\n",
      "Loss: 0.726, Train accuracy: 0.989, Test_accuracy: 0.803\n",
      "Trial 3/10...\n",
      "Loss: 0.025, Train accuracy: 1.000, Test_accuracy: 0.799\n",
      "Trial 4/10...\n",
      "Loss: 0.021, Train accuracy: 1.000, Test_accuracy: 0.800\n",
      "Trial 5/10...\n",
      "Loss: 0.035, Train accuracy: 1.000, Test_accuracy: 0.789\n",
      "Trial 6/10...\n",
      "Loss: 0.001, Train accuracy: 1.000, Test_accuracy: 0.799\n",
      "Trial 7/10...\n",
      "Loss: 0.002, Train accuracy: 1.000, Test_accuracy: 0.802\n",
      "Trial 8/10...\n",
      "Loss: 0.005, Train accuracy: 1.000, Test_accuracy: 0.805\n",
      "Trial 9/10...\n",
      "Loss: 0.001, Train accuracy: 1.000, Test_accuracy: 0.806\n",
      "Trial 10/10...\n",
      "Loss: 0.003, Train accuracy: 1.000, Test_accuracy: 0.804\n",
      "found size  4\n",
      "baseline number of channel : 3\n",
      "netwok created\n",
      "Parameters conv : 55485\n",
      "Parameters fc : 11581\n",
      "Parameters : 67066\n",
      "torch.Size([3, 2, 3, 3])\n",
      "torch.Size([3])\n",
      "torch.Size([6, 3, 3, 3])\n",
      "torch.Size([6])\n",
      "torch.Size([12, 6, 3, 3])\n",
      "torch.Size([12])\n",
      "torch.Size([24, 12, 3, 3])\n",
      "torch.Size([24])\n",
      "torch.Size([48, 24, 3, 3])\n",
      "torch.Size([48])\n",
      "torch.Size([96, 48, 3, 3])\n",
      "torch.Size([96])\n",
      "torch.Size([30, 384])\n",
      "torch.Size([30])\n",
      "torch.Size([1, 30])\n",
      "torch.Size([1])\n",
      "Trial 1/10...\n",
      "Loss: 1.946, Train accuracy: 0.899, Test_accuracy: 0.793\n",
      "Trial 2/10...\n",
      "Loss: 0.956, Train accuracy: 0.954, Test_accuracy: 0.795\n",
      "Trial 3/10...\n",
      "Loss: 0.024, Train accuracy: 1.000, Test_accuracy: 0.792\n",
      "Trial 4/10...\n",
      "Loss: 0.010, Train accuracy: 1.000, Test_accuracy: 0.794\n",
      "Trial 5/10...\n",
      "Loss: 0.006, Train accuracy: 1.000, Test_accuracy: 0.793\n",
      "Trial 6/10...\n",
      "Loss: 0.004, Train accuracy: 1.000, Test_accuracy: 0.794\n",
      "Trial 7/10...\n",
      "Loss: 0.002, Train accuracy: 1.000, Test_accuracy: 0.794\n",
      "Trial 8/10...\n",
      "Loss: 0.006, Train accuracy: 1.000, Test_accuracy: 0.791\n",
      "Trial 9/10...\n",
      "Loss: 0.001, Train accuracy: 1.000, Test_accuracy: 0.798\n",
      "Trial 10/10...\n",
      "Loss: 0.003, Train accuracy: 1.000, Test_accuracy: 0.798\n"
     ]
    }
   ],
   "source": [
    "depth_losses = {'mean':[], 'std':[]}\n",
    "depth_tr_acc = {'mean':[], 'std':[]}\n",
    "depth_te_acc = {'mean':[], 'std':[]}\n",
    "\n",
    "for depth in range(2,7,1):\n",
    "    conv = Net(depth)\n",
    "    #sae.pretrain(train_input)\n",
    "    tr_loss, tr_acc, te_acc = trial(conv, train_input, train_classes, train_target, test_input, test_target)\n",
    "    \n",
    "    depth_losses['mean'].append(tr_loss.mean(0))\n",
    "    depth_losses['std'].append(tr_loss.std(0))\n",
    "    depth_tr_acc['mean'].append(tr_acc.mean(0))\n",
    "    depth_tr_acc['std'].append(tr_acc.std(0))\n",
    "    depth_te_acc['mean'].append(te_acc.mean(0))\n",
    "    depth_te_acc['std'].append(te_acc.std(0))"
   ]
  },
  {
   "cell_type": "code",
   "execution_count": 9,
   "metadata": {},
   "outputs": [
    {
     "data": {
      "image/png": "[encoded data removed]",
      "text/plain": [
       "<Figure size 432x288 with 1 Axes>"
      ]
     },
     "metadata": {
      "needs_background": "light"
     },
     "output_type": "display_data"
    }
   ],
   "source": [
    "fig = plt.gcf()\n",
    "\n",
    "for i, depth in enumerate(range(2,12,2)):\n",
    "    plt.errorbar(range(25), depth_losses['mean'][i].numpy().T, depth_losses['std'][i].numpy().T, fmt = '.', label=f'depth {depth}')\n",
    "plt.xlabel('Epoch')\n",
    "plt.ylabel('Loss')\n",
    "plt.legend()\n",
    "plt.show()\n",
    "fig.savefig('CNN_loss.png')"
   ]
  },
  {
   "cell_type": "code",
   "execution_count": 14,
   "metadata": {},
   "outputs": [
    {
     "data": {
      "text/plain": [
       "{'mean': [tensor([51.7660, 13.8126,  6.6361,  4.2916,  3.2568,  2.6216,  2.1944,  1.8680,\n",
       "           1.6110,  1.4018,  1.2620,  1.1363,  0.9837,  0.8414,  0.7416,  0.6540,\n",
       "           0.5750,  0.5099,  0.4581,  0.4128,  0.3737,  0.3400,  0.3095,  0.2835,\n",
       "           0.2606]),\n",
       "  tensor([41.2218, 12.0411,  7.1264,  5.1330,  4.1080,  3.4609,  2.9483,  2.5365,\n",
       "           2.2399,  1.9902,  1.7780,  1.6032,  1.4367,  1.2774,  1.1388,  1.0170,\n",
       "           0.9137,  0.8285,  0.7666,  0.7093,  0.6598,  0.6138,  0.5716,  0.5526,\n",
       "           0.5346]),\n",
       "  tensor([38.6878, 10.8311,  6.3051,  4.5127,  3.5060,  2.8397,  2.3800,  2.0191,\n",
       "           1.7117,  1.4767,  1.2916,  1.0994,  0.9484,  0.8295,  0.7414,  0.6539,\n",
       "           0.5394,  0.4757,  0.4244,  0.3929,  0.3502,  0.3312,  0.3099,  0.3103,\n",
       "           0.2859]),\n",
       "  tensor([42.9793, 13.3160,  7.8895,  5.4619,  4.1842,  3.4349,  2.8960,  2.4842,\n",
       "           2.1322,  1.8383,  1.6014,  1.3789,  1.2307,  1.1038,  1.0079,  0.9055,\n",
       "           0.8128,  0.7569,  0.7044,  0.6861,  0.6833,  0.6561,  0.6464,  0.6106,\n",
       "           0.6110]),\n",
       "  tensor([60.5579, 20.7678, 12.7661,  8.2118,  5.9065,  4.5196,  3.6093,  3.0089,\n",
       "           2.5927,  2.2523,  1.9643,  1.7632,  1.5850,  1.4391,  1.3034,  1.2652,\n",
       "           1.2506,  1.2137,  1.1471,  1.0250,  1.0972,  1.1679,  1.1157,  0.9415,\n",
       "           0.8261])],\n",
       " 'std': [tensor([16.9980,  5.7800,  2.4926,  1.6190,  1.2740,  1.0895,  0.9547,  0.8511,\n",
       "           0.7682,  0.7101,  0.7286,  0.7265,  0.5921,  0.4478,  0.3817,  0.3243,\n",
       "           0.2627,  0.2193,  0.1922,  0.1691,  0.1504,  0.1333,  0.1183,  0.1067,\n",
       "           0.0970]),\n",
       "  tensor([7.3383, 6.5814, 2.9935, 1.7430, 1.4680, 1.3306, 1.1264, 0.9440, 0.8874,\n",
       "          0.8114, 0.7782, 0.7525, 0.7131, 0.6654, 0.6213, 0.5796, 0.5414, 0.5089,\n",
       "          0.4820, 0.4573, 0.4335, 0.4117, 0.3925, 0.4055, 0.4129]),\n",
       "  tensor([7.5216, 6.9261, 3.7567, 2.5985, 2.0401, 1.6132, 1.3957, 1.2516, 1.1180,\n",
       "          1.0676, 1.0481, 0.9029, 0.8257, 0.7669, 0.7489, 0.6802, 0.5167, 0.4632,\n",
       "          0.4032, 0.3946, 0.3572, 0.3532, 0.3220, 0.3314, 0.3283]),\n",
       "  tensor([10.8415, 10.3951,  6.2781,  4.2594,  3.2146,  2.7270,  2.3548,  2.1002,\n",
       "           1.8659,  1.6598,  1.4744,  1.2787,  1.1314,  1.0324,  0.9533,  0.8867,\n",
       "           0.8445,  0.7985,  0.7586,  0.7461,  0.7535,  0.7472,  0.7536,  0.7687,\n",
       "           0.9057]),\n",
       "  tensor([23.1095,  8.5475,  7.4594,  5.6776,  4.3434,  3.5273,  2.9137,  2.5618,\n",
       "           2.3499,  2.1960,  2.0261,  1.9041,  1.7649,  1.6017,  1.5012,  1.5027,\n",
       "           1.5556,  1.5956,  1.3563,  1.2136,  1.3045,  1.4974,  1.3771,  1.2800,\n",
       "           1.2818])]}"
      ]
     },
     "execution_count": 14,
     "metadata": {},
     "output_type": "execute_result"
    }
   ],
   "source": []
  },
  {
   "cell_type": "code",
   "execution_count": null,
   "metadata": {},
   "outputs": [],
   "source": []
  }
 ],
 "metadata": {
  "kernelspec": {
   "display_name": "Python 3",
   "language": "python",
   "name": "python3"
  },
  "language_info": {
   "codemirror_mode": {
    "name": "ipython",
    "version": 3
   },
   "file_extension": ".py",
   "mimetype": "text/x-python",
   "name": "python",
   "nbconvert_exporter": "python",
   "pygments_lexer": "ipython3",
   "version": "3.7.4"
  }
 },
 "nbformat": 4,
 "nbformat_minor": 2
}
