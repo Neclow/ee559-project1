{
 "cells": [
  {
   "cell_type": "code",
   "execution_count": 1,
   "metadata": {},
   "outputs": [],
   "source": [
    "import torch\n",
    "from torch import nn\n",
    "from utils import load_data, width_visualization, reconstruct_image\n",
    "import matplotlib.pyplot as plt\n",
    "from fcn import FCN\n",
    "from sae import AE, StackedAE\n",
    "from train import pretrain_autoencoders, train\n",
    "from metrics import compute_accuracy"
   ]
  },
  {
   "cell_type": "code",
   "execution_count": 2,
   "metadata": {},
   "outputs": [],
   "source": [
    "train_input, train_target, train_classes, test_input, test_target, test_classes = load_data()"
   ]
  },
  {
   "cell_type": "code",
   "execution_count": 3,
   "metadata": {},
   "outputs": [
    {
     "data": {
      "image/png": "[encoded data removed]",
      "text/plain": [
       "<Figure size 432x288 with 1 Axes>"
      ]
     },
     "metadata": {
      "needs_background": "light"
     },
     "output_type": "display_data"
    }
   ],
   "source": [
    "width_visualization(StackedAE)"
   ]
  },
  {
   "cell_type": "code",
   "execution_count": 4,
   "metadata": {},
   "outputs": [
    {
     "name": "stdout",
     "output_type": "stream",
     "text": [
      "Width for 70000 parameters in a 5-layer FCN: 55\n",
      "Autoencoder Parameters: 46451\n",
      "SAE Parameters: 14475\n"
     ]
    }
   ],
   "source": [
    "sae = StackedAE(5)"
   ]
  },
  {
   "cell_type": "code",
   "execution_count": 5,
   "metadata": {
    "scrolled": true
   },
   "outputs": [
    {
     "name": "stdout",
     "output_type": "stream",
     "text": [
      "Pretraining AE 1/5...\n",
      "Epoch 1/25: loss = 35.30202567577362\n",
      "Epoch 2/25: loss = 26.993744492530823\n",
      "Epoch 3/25: loss = 22.870354652404785\n",
      "Epoch 4/25: loss = 19.869300544261932\n",
      "Epoch 5/25: loss = 17.777416944503784\n",
      "Epoch 6/25: loss = 16.18983143568039\n",
      "Epoch 7/25: loss = 14.93801212310791\n",
      "Epoch 8/25: loss = 13.846301317214966\n",
      "Epoch 9/25: loss = 13.075628817081451\n",
      "Epoch 10/25: loss = 12.471678733825684\n",
      "Epoch 11/25: loss = 11.98622840642929\n",
      "Epoch 12/25: loss = 11.586458504199982\n",
      "Epoch 13/25: loss = 11.249455034732819\n",
      "Epoch 14/25: loss = 10.960957050323486\n",
      "Epoch 15/25: loss = 10.710520625114441\n",
      "Epoch 16/25: loss = 10.494373500347137\n",
      "Epoch 17/25: loss = 10.301731050014496\n",
      "Epoch 18/25: loss = 10.13275158405304\n",
      "Epoch 19/25: loss = 9.985446959733963\n",
      "Epoch 20/25: loss = 9.855940073728561\n",
      "Epoch 21/25: loss = 9.74120306968689\n",
      "Epoch 22/25: loss = 9.639601469039917\n",
      "Epoch 23/25: loss = 9.548723638057709\n",
      "Epoch 24/25: loss = 9.467157572507858\n",
      "Epoch 25/25: loss = 9.393341422080994\n",
      "Pretraining AE 2/5...\n",
      "Epoch 1/25: loss = 280.7757682800293\n",
      "Epoch 2/25: loss = 146.900043964386\n",
      "Epoch 3/25: loss = 120.23584413528442\n",
      "Epoch 4/25: loss = 111.62294244766235\n",
      "Epoch 5/25: loss = 98.50438213348389\n",
      "Epoch 6/25: loss = 92.83749866485596\n",
      "Epoch 7/25: loss = 82.15840315818787\n",
      "Epoch 8/25: loss = 75.6719331741333\n",
      "Epoch 9/25: loss = 71.68243217468262\n",
      "Epoch 10/25: loss = 68.42746043205261\n",
      "Epoch 11/25: loss = 65.48823308944702\n",
      "Epoch 12/25: loss = 62.778950214385986\n",
      "Epoch 13/25: loss = 60.44493317604065\n",
      "Epoch 14/25: loss = 58.40887951850891\n",
      "Epoch 15/25: loss = 56.524986267089844\n",
      "Epoch 16/25: loss = 49.04127073287964\n",
      "Epoch 17/25: loss = 37.812554240226746\n",
      "Epoch 18/25: loss = 35.33159780502319\n",
      "Epoch 19/25: loss = 33.70884716510773\n",
      "Epoch 20/25: loss = 32.297598242759705\n",
      "Epoch 21/25: loss = 31.016913771629333\n",
      "Epoch 22/25: loss = 29.824020385742188\n",
      "Epoch 23/25: loss = 28.704985976219177\n",
      "Epoch 24/25: loss = 27.581759572029114\n",
      "Epoch 25/25: loss = 26.365830659866333\n",
      "Pretraining AE 3/5...\n",
      "Epoch 1/25: loss = 59.34623992443085\n",
      "Epoch 2/25: loss = 25.25900900363922\n",
      "Epoch 3/25: loss = 18.649849891662598\n",
      "Epoch 4/25: loss = 14.205030143260956\n",
      "Epoch 5/25: loss = 11.119187414646149\n",
      "Epoch 6/25: loss = 8.91222369670868\n",
      "Epoch 7/25: loss = 7.329837501049042\n",
      "Epoch 8/25: loss = 6.173484534025192\n",
      "Epoch 9/25: loss = 5.268569990992546\n",
      "Epoch 10/25: loss = 4.5444904416799545\n",
      "Epoch 11/25: loss = 3.9594536274671555\n",
      "Epoch 12/25: loss = 3.4763843715190887\n",
      "Epoch 13/25: loss = 3.0703170895576477\n",
      "Epoch 14/25: loss = 2.7241899520158768\n",
      "Epoch 15/25: loss = 2.4297379851341248\n",
      "Epoch 16/25: loss = 2.178757019340992\n",
      "Epoch 17/25: loss = 1.9632510542869568\n",
      "Epoch 18/25: loss = 1.7761511132121086\n",
      "Epoch 19/25: loss = 1.610781006515026\n",
      "Epoch 20/25: loss = 1.4642082452774048\n",
      "Epoch 21/25: loss = 1.3345672711730003\n",
      "Epoch 22/25: loss = 1.2197950035333633\n",
      "Epoch 23/25: loss = 1.1173795722424984\n",
      "Epoch 24/25: loss = 1.0260471850633621\n",
      "Epoch 25/25: loss = 0.9474965371191502\n",
      "Pretraining AE 4/5...\n",
      "Epoch 1/25: loss = 14.401164069771767\n",
      "Epoch 2/25: loss = 2.7148466408252716\n",
      "Epoch 3/25: loss = 1.64064721763134\n",
      "Epoch 4/25: loss = 1.1289163306355476\n",
      "Epoch 5/25: loss = 0.801044050604105\n",
      "Epoch 6/25: loss = 0.5910766832530499\n",
      "Epoch 7/25: loss = 0.4638430494815111\n",
      "Epoch 8/25: loss = 0.3782527055591345\n",
      "Epoch 9/25: loss = 0.3164080586284399\n",
      "Epoch 10/25: loss = 0.27003548946231604\n",
      "Epoch 11/25: loss = 0.23443054128438234\n",
      "Epoch 12/25: loss = 0.2063473341986537\n",
      "Epoch 13/25: loss = 0.18359280284494162\n",
      "Epoch 14/25: loss = 0.16481585102155805\n",
      "Epoch 15/25: loss = 0.14894866850227118\n",
      "Epoch 16/25: loss = 0.13566539762541652\n",
      "Epoch 17/25: loss = 0.12367742415517569\n",
      "Epoch 18/25: loss = 0.11329138046130538\n",
      "Epoch 19/25: loss = 0.10414999537169933\n",
      "Epoch 20/25: loss = 0.09602522756904364\n",
      "Epoch 21/25: loss = 0.08883039373904467\n",
      "Epoch 22/25: loss = 0.08242441387847066\n",
      "Epoch 23/25: loss = 0.0766772679053247\n",
      "Epoch 24/25: loss = 0.07148881023749709\n",
      "Epoch 25/25: loss = 0.06677261111326516\n",
      "Pretraining AE 5/5...\n",
      "Epoch 1/25: loss = 0.972772317007184\n",
      "Epoch 2/25: loss = 0.15428272355347872\n",
      "Epoch 3/25: loss = 0.06094688759185374\n",
      "Epoch 4/25: loss = 0.03542126528918743\n",
      "Epoch 5/25: loss = 0.026010878733359277\n",
      "Epoch 6/25: loss = 0.020767699810676277\n",
      "Epoch 7/25: loss = 0.017025699897203594\n",
      "Epoch 8/25: loss = 0.014112058561295271\n",
      "Epoch 9/25: loss = 0.011846353765577078\n",
      "Epoch 10/25: loss = 0.01012131100287661\n",
      "Epoch 11/25: loss = 0.008815166482236236\n",
      "Epoch 12/25: loss = 0.0078123741841409355\n",
      "Epoch 13/25: loss = 0.0070200637564994395\n",
      "Epoch 14/25: loss = 0.006365010456647724\n",
      "Epoch 15/25: loss = 0.00581577533739619\n",
      "Epoch 16/25: loss = 0.005346972640836611\n",
      "Epoch 17/25: loss = 0.00494576504570432\n",
      "Epoch 18/25: loss = 0.00459358308580704\n",
      "Epoch 19/25: loss = 0.004282019741367549\n",
      "Epoch 20/25: loss = 0.004013928162748925\n",
      "Epoch 21/25: loss = 0.0037663426337530836\n",
      "Epoch 22/25: loss = 0.0037225277483230457\n",
      "Epoch 23/25: loss = 0.0033868486643768847\n",
      "Epoch 24/25: loss = 0.003198057835106738\n",
      "Epoch 25/25: loss = 0.0030494790989905596\n"
     ]
    }
   ],
   "source": [
    "pretrain_autoencoders(sae.aes, train_input)"
   ]
  },
  {
   "cell_type": "code",
   "execution_count": 6,
   "metadata": {},
   "outputs": [
    {
     "data": {
      "image/png": "[encoded data removed]",
      "text/plain": [
       "<Figure size 432x288 with 2 Axes>"
      ]
     },
     "metadata": {
      "needs_background": "light"
     },
     "output_type": "display_data"
    }
   ],
   "source": [
    "reconstruct_image(sae.aes[0], train_input)"
   ]
  },
  {
   "cell_type": "code",
   "execution_count": 7,
   "metadata": {},
   "outputs": [
    {
     "name": "stdout",
     "output_type": "stream",
     "text": [
      "Epoch 1/25: loss = 91.85794830322266\n",
      "Epoch 2/25: loss = 87.06678104400635\n",
      "Epoch 3/25: loss = 71.90550947189331\n",
      "Epoch 4/25: loss = 50.22527992725372\n",
      "Epoch 5/25: loss = 37.75767779350281\n",
      "Epoch 6/25: loss = 31.44178795814514\n",
      "Epoch 7/25: loss = 26.9961359500885\n",
      "Epoch 8/25: loss = 24.389769852161407\n",
      "Epoch 9/25: loss = 22.22945612668991\n",
      "Epoch 10/25: loss = 20.66250240802765\n",
      "Epoch 11/25: loss = 19.329388737678528\n",
      "Epoch 12/25: loss = 18.25503009557724\n",
      "Epoch 13/25: loss = 17.344561994075775\n",
      "Epoch 14/25: loss = 16.384150981903076\n",
      "Epoch 15/25: loss = 15.344614028930664\n",
      "Epoch 16/25: loss = 14.48737034201622\n",
      "Epoch 17/25: loss = 13.780416637659073\n",
      "Epoch 18/25: loss = 13.154670089483261\n",
      "Epoch 19/25: loss = 12.576240241527557\n",
      "Epoch 20/25: loss = 12.054915219545364\n",
      "Epoch 21/25: loss = 11.613827645778656\n",
      "Epoch 22/25: loss = 11.150324910879135\n",
      "Epoch 23/25: loss = 10.744331181049347\n",
      "Epoch 24/25: loss = 10.39351624250412\n",
      "Epoch 25/25: loss = 10.058234721422195\n"
     ]
    }
   ],
   "source": [
    "train(sae, train_input, train_classes)"
   ]
  },
  {
   "cell_type": "code",
   "execution_count": 8,
   "metadata": {},
   "outputs": [
    {
     "data": {
      "text/plain": [
       "0.907"
      ]
     },
     "execution_count": 8,
     "metadata": {},
     "output_type": "execute_result"
    }
   ],
   "source": [
    "compute_accuracy(sae, test_input, test_target)"
   ]
  }
 ],
 "metadata": {
  "kernelspec": {
   "display_name": "Python 3",
   "language": "python",
   "name": "python3"
  },
  "language_info": {
   "codemirror_mode": {
    "name": "ipython",
    "version": 3
   },
   "file_extension": ".py",
   "mimetype": "text/x-python",
   "name": "python",
   "nbconvert_exporter": "python",
   "pygments_lexer": "ipython3",
   "version": "3.7.6"
  }
 },
 "nbformat": 4,
 "nbformat_minor": 2
}
