{
 "cells": [
  {
   "cell_type": "code",
   "execution_count": 1,
   "metadata": {},
   "outputs": [],
   "source": [
    "import torch\n",
    "import dlc_practical_prologue as prologue\n",
    "import matplotlib.pyplot as plt\n",
    "from torch.utils.data import DataLoader\n",
    "from torchvision import transforms\n",
    "from torch import nn\n",
    "from torch.nn import functional as F\n",
    "from utils import load_data, width_visualization"
   ]
  },
  {
   "cell_type": "code",
   "execution_count": 2,
   "metadata": {},
   "outputs": [],
   "source": [
    "train_input, train_target, train_classes, test_input, test_target, test_classes = load_data()"
   ]
  },
  {
   "cell_type": "code",
   "execution_count": 3,
   "metadata": {},
   "outputs": [],
   "source": [
    "class FCN(nn.Module):\n",
    "    def __init__(self, nLayers, nParams=70000, in_=14*14, out_=10):\n",
    "        super(FCN, self).__init__()\n",
    "        self.nLayers = nLayers\n",
    "        self.nParams = nParams\n",
    "        self.in_ = in_\n",
    "        self.out_ = out_\n",
    "        self.hidden = self.get_params(nLayers, nParams, in_, out_)\n",
    "        \n",
    "        print(f'Width for {self.nParams} parameters in a {self.nLayers}-layer FCN: {self.hidden}')\n",
    "        \n",
    "        self.fcn = self.create_net()\n",
    "        print(f'Parameters: {self.count_params()}')\n",
    "\n",
    "    def create_net(self):\n",
    "        '''\n",
    "        Create network of given depth given default parameters\n",
    "        N: number of parameters in model\n",
    "        D: number of input channels\n",
    "        T: number of output channels\n",
    "        '''      \n",
    "        layers = []     \n",
    "        in_ = self.in_\n",
    "        \n",
    "        for i in range(self.nLayers):\n",
    "            layers.extend([nn.Linear(in_, self.hidden), nn.ReLU(), nn.Dropout(0.2)])\n",
    "            in_ = self.hidden\n",
    "        \n",
    "        # Output layer\n",
    "        layers.append(nn.Linear(self.hidden, self.out_))        \n",
    "        return nn.Sequential(*layers)        \n",
    "    \n",
    "    def forward(self, x):\n",
    "        assert(len(x.shape) == 4) # Input must be 4D\n",
    "        out = torch.zeros((x.shape[0], x.shape[1], self.out_))\n",
    "        \n",
    "        for i in range(x.shape[1]):\n",
    "            out[:,i,:] = self.fcn(x[:,i,:,:].view(-1, 14*14))\n",
    "        return out\n",
    "    \n",
    "    def count_params(self):\n",
    "        return sum(p.numel() for p in self.parameters())\n",
    "    \n",
    "    @staticmethod\n",
    "    def get_params(L, N, D, T):\n",
    "        # Solve: N = (L-1)*H^2 + (D+T+L)*H+T    \n",
    "        a = L-1\n",
    "        b = D+T+L\n",
    "        c = T-N\n",
    "\n",
    "        s = pow(b**2-4*a*c, 0.5)\n",
    "        return round((-b+s)/(2*a))"
   ]
  },
  {
   "cell_type": "code",
   "execution_count": 4,
   "metadata": {},
   "outputs": [
    {
     "name": "stdout",
     "output_type": "stream",
     "text": [
      "Width for 70000 parameters in a 5-layer FCN: 109\n",
      "Parameters: 70533\n"
     ]
    }
   ],
   "source": [
    "net = FCN(5)"
   ]
  },
  {
   "cell_type": "code",
   "execution_count": 5,
   "metadata": {},
   "outputs": [
    {
     "data": {
      "image/png": "[encoded data removed]",
      "text/plain": [
       "<Figure size 432x288 with 1 Axes>"
      ]
     },
     "metadata": {
      "needs_background": "light"
     },
     "output_type": "display_data"
    }
   ],
   "source": [
    "width_visualization()"
   ]
  }
 ],
 "metadata": {
  "kernelspec": {
   "display_name": "Python 3",
   "language": "python",
   "name": "python3"
  },
  "language_info": {
   "codemirror_mode": {
    "name": "ipython",
    "version": 3
   },
   "file_extension": ".py",
   "mimetype": "text/x-python",
   "name": "python",
   "nbconvert_exporter": "python",
   "pygments_lexer": "ipython3",
   "version": "3.7.6"
  }
 },
 "nbformat": 4,
 "nbformat_minor": 2
}
