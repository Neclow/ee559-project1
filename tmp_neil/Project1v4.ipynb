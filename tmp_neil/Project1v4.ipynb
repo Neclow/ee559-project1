{
 "cells": [
  {
   "cell_type": "code",
   "execution_count": 1,
   "metadata": {},
   "outputs": [],
   "source": [
    "import torch\n",
    "from torch import nn, optim\n",
    "from torch.optim import lr_scheduler\n",
    "import matplotlib.pyplot as plt\n",
    "import torchvision.transforms as transforms\n",
    "import time\n",
    "from utils import load_data, split_data, shuffle, weight_initialization\n",
    "from metrics import compute_accuracy\n",
    "from torchsummary import summary"
   ]
  },
  {
   "cell_type": "code",
   "execution_count": 2,
   "metadata": {},
   "outputs": [],
   "source": [
    "# Load train and test data\n",
    "train_data, test_data = load_data()\n",
    "\n",
    "# Split data in train-validation-test\n",
    "train_loader, valid_loader, test_loader = split_data(train_data, test_data)"
   ]
  },
  {
   "cell_type": "code",
   "execution_count": 3,
   "metadata": {},
   "outputs": [],
   "source": [
    "def trial(net, train_loader, test_loader, n_epochs=25, n_trials=20, alpha=1, alpha_decay=1, verbose=True):\n",
    "    all_losses = torch.zeros((n_trials, n_epochs))\n",
    "    tr_accuracies = torch.zeros(n_trials)\n",
    "    te_accuracies = torch.zeros(n_trials)\n",
    "    \n",
    "    for trial in range(n_trials):\n",
    "        # Shuffle data\n",
    "        train_loader, valid_loader, test_loader = split_data(train_data, test_data)\n",
    "        \n",
    "        # Reset weights\n",
    "        net.train()\n",
    "        net.apply(weight_initialization)\n",
    "        \n",
    "        # Train\n",
    "        start = time.time()\n",
    "        train_loss = train(net, train_loader, alpha=alpha, alpha_decay=alpha_decay, verbose=False)\n",
    "        print('Trial %d/%d... Training time: %.2f s' % (i+1, n_trials, time.time()-start))\n",
    "        \n",
    "        # Collect data\n",
    "        all_losses[trial] = train_loss\n",
    "        \n",
    "        net.eval()\n",
    "        with torch.no_grad():\n",
    "            tr_accuracies[i] = compute_accuracy(net, train_loader)\n",
    "            te_accuracies[i] = compute_accuracy(net, test_loader)\n",
    "        \n",
    "        if verbose:\n",
    "            print('Loss: %.3f, Train acc: %.3f, Test acc: %.3f' % \n",
    "                  (train_loss[-1], tr_accuracies[i], te_accuracies[i]))\n",
    "    \n",
    "    return all_losses, tr_accuracies, te_accuracies"
   ]
  },
  {
   "cell_type": "code",
   "execution_count": 4,
   "metadata": {},
   "outputs": [],
   "source": [
    "def train(net, train_loader, eta=1e-3, decay=1e-5, n_epochs=25, alpha=1, alpha_decay=1, verbose=True):\n",
    "    aux_crit = nn.CrossEntropyLoss()\n",
    "    binary_crit = nn.BCELoss()\n",
    "    optimizer = optim.Adam(net.parameters(), lr=eta, weight_decay=decay)\n",
    "    #optimizer = optim.RMSprop(net.parameters(), lr=eta, weight_decay=decay)\n",
    "    #optimizer = optim.SGD(net.parameters(), lr=eta, weight_decay=decay, momentum=0.9, nesterov=True)\n",
    "    scheduler = lr_scheduler.ReduceLROnPlateau(optimizer, 'min', patience=5)\n",
    "\n",
    "    tr_losses, val_losses = torch.zeros(n_epochs), torch.zeros(n_epochs)\n",
    "    \n",
    "    for e in range(n_epochs):\n",
    "        tr_loss, val_loss, aux_loss = 0, 0, 0\n",
    "        net.train()\n",
    "        \n",
    "        for (trainX, trainY, trainC) in train_loader:\n",
    "            out, aux = net(trainX)\n",
    "            \n",
    "            aux1, aux2 = aux.unbind(1)\n",
    "            c1, c2 = trainC.unbind(1)\n",
    "            \n",
    "            aux_loss = aux_crit(aux1, c1) + aux_crit(aux2, c2)\n",
    "\n",
    "            binary_loss = binary_crit(out, trainY.float())\n",
    "            \n",
    "            total_loss = binary_loss + alpha*aux_loss\n",
    "            \n",
    "            tr_loss += total_loss.item()\n",
    "           \n",
    "            optimizer.zero_grad()\n",
    "            total_loss.backward()\n",
    "            optimizer.step()\n",
    "        \n",
    "        with torch.no_grad():\n",
    "            for (valX, valY, trainC) in valid_loader:\n",
    "                out, _ = net(valX)\n",
    "                loss = binary_crit(out, valY.float())\n",
    "                val_loss += loss.item()\n",
    "        \n",
    "        tr_losses[e] = tr_loss\n",
    "        val_losses[e] = val_loss\n",
    "                \n",
    "        scheduler.step(val_loss)\n",
    "        alpha *= alpha_decay\n",
    "        \n",
    "        if verbose:\n",
    "            print('Epoch %d/%d, Train loss: %.3f, Val loss: %.3f, Aux loss: %.3f' % \n",
    "                  (e+1, n_epochs, tr_loss, val_loss, aux_loss))\n",
    "    \n",
    "    return tr_losses"
   ]
  },
  {
   "cell_type": "code",
   "execution_count": 5,
   "metadata": {},
   "outputs": [],
   "source": [
    "class CNN(nn.Module):\n",
    "    def __init__(self, verbose=True):\n",
    "        super(CNN, self).__init__()\n",
    "        \n",
    "        ## Siamese block\n",
    "        self.conv1 = nn.Conv2d(1, 64, kernel_size=3)\n",
    "        self.conv2 = nn.Conv2d(64, 64, kernel_size=3)\n",
    "        self.fc1 = nn.Linear(256, 128)\n",
    "        self.fc2 = nn.Linear(128, 10)\n",
    "        \n",
    "        # Decision block\n",
    "        self.fc3 = nn.Linear(20, 10)\n",
    "        self.fc4 = nn.Linear(10, 1)\n",
    "        \n",
    "        # Regularizers\n",
    "        self.drop = nn.Dropout(0.2)\n",
    "        self.pool = nn.MaxPool2d(2,2)\n",
    "        \n",
    "        # Activation fcns\n",
    "        self.relu = nn.ReLU()\n",
    "        self.selu = nn.SELU()\n",
    "        self.sigmoid = nn.Sigmoid()\n",
    "        \n",
    "        if verbose:\n",
    "            print(f'Parameters: {self.count_params()}')\n",
    "\n",
    "    def count_params(self):\n",
    "        return sum(p.numel() for p in self.parameters())\n",
    "    \n",
    "    def forward(self, x):\n",
    "        x1, x2 = x.unbind(1)\n",
    "        \n",
    "        x1 = self.pool(self.relu(self.conv1(x1.unsqueeze(1))))\n",
    "        x1 = self.pool(self.relu(self.conv2(x1)))\n",
    "        x1 = self.relu(self.fc1(x1.flatten(start_dim=1)))\n",
    "        x1 = self.drop(x1)\n",
    "        x1 = self.relu(self.fc2(x1))\n",
    "        x1 = self.drop(x1)\n",
    "        \n",
    "        x2 = self.pool(self.relu(self.conv1(x2.unsqueeze(1))))\n",
    "        x2 = self.pool(self.relu(self.conv2(x2)))\n",
    "        x2 = self.relu(self.fc1(x2.flatten(start_dim=1)))\n",
    "        x2 = self.drop(x2)\n",
    "        x2 = self.relu(self.fc2(x2))\n",
    "        x2 = self.drop(x2)\n",
    "        \n",
    "        # Dim x1: Nx1x10\n",
    "        \n",
    "        aux = torch.stack([x1, x2], dim=1)\n",
    "        \n",
    "        # Dim aux: Nx2x10\n",
    "        \n",
    "        x = torch.cat([x1, x2], dim=1)\n",
    "        \n",
    "        # Dim x: Nx20\n",
    "        \n",
    "        x = self.relu(self.fc3(x.flatten(start_dim=1)))\n",
    "        x = self.drop(x)\n",
    "        x = self.sigmoid(self.fc4(x))\n",
    "        return x.squeeze(), aux"
   ]
  },
  {
   "cell_type": "code",
   "execution_count": 7,
   "metadata": {},
   "outputs": [
    {
     "name": "stdout",
     "output_type": "stream",
     "text": [
      "Parameters: 71975\n"
     ]
    }
   ],
   "source": [
    "net = CNN()"
   ]
  },
  {
   "cell_type": "code",
   "execution_count": null,
   "metadata": {},
   "outputs": [
    {
     "name": "stdout",
     "output_type": "stream",
     "text": [
      "Epoch 1/25, Train loss: 79.515, Val loss: 2.794, Aux loss: 4.098\n",
      "Epoch 2/25, Train loss: 60.516, Val loss: 2.615, Aux loss: 3.231\n"
     ]
    }
   ],
   "source": [
    "train(net, train_loader, alpha=1, alpha_decay=0.9)"
   ]
  },
  {
   "cell_type": "code",
   "execution_count": null,
   "metadata": {},
   "outputs": [],
   "source": [
    "compute_accuracy(net, test_loader)"
   ]
  },
  {
   "cell_type": "code",
   "execution_count": null,
   "metadata": {},
   "outputs": [],
   "source": [
    "_, tr_accuracies, te_accuracies, trial(net, train_loader, test_loader, alpha_decay=.9)"
   ]
  },
  {
   "cell_type": "code",
   "execution_count": null,
   "metadata": {},
   "outputs": [],
   "source": [
    "print(f'Training Acc - Mean: {tr_accuracies.mean()}')\n",
    "print(f'Training Acc - SD: {tr_accuracies.std()}')\n",
    "print(f'Test Acc - Mean: {te_accuracies.mean()}')\n",
    "print(f'Test Acc - SD: {te_accuracies.std()}')\n",
    "print(f'Test Acc - Median: {tr_accuracies.median()}')"
   ]
  },
  {
   "cell_type": "code",
   "execution_count": null,
   "metadata": {},
   "outputs": [],
   "source": [
    "plt.hist(te_accuracies)"
   ]
  }
 ],
 "metadata": {
  "kernelspec": {
   "display_name": "Python 3",
   "language": "python",
   "name": "python3"
  },
  "language_info": {
   "codemirror_mode": {
    "name": "ipython",
    "version": 3
   },
   "file_extension": ".py",
   "mimetype": "text/x-python",
   "name": "python",
   "nbconvert_exporter": "python",
   "pygments_lexer": "ipython3",
   "version": "3.7.6"
  }
 },
 "nbformat": 4,
 "nbformat_minor": 4
}
